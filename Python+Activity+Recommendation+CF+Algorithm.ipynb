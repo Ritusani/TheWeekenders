{
 "cells": [
  {
   "cell_type": "markdown",
   "metadata": {},
   "source": [
    "# <u> Activities one can do while travelling -  Recommendation Engine </u>\n",
    "\n",
    "#### By Team Weekenders: _Elena Harda, Ritu Pardasani, Rucha Kulkarni, Sanjana Thakur_\n",
    "\n",
    "Deciding \"where to go\" on a weekend is always a task, moreover \"what to do\" is a much more important task. We usually decide travel destinations based on what activities do we want to do. \n",
    "\n",
    "With machine learning (ML) its easier to find insights and correlations. Hence we decided to use **Collaboative Filtering (CF)** algorithm to make a **recommendation engine** for recommending activities along with cities & cost of that activity on the basis of user selected activity. \n",
    "\n",
    "So basically, we'll recommend activities that are similar to the user's selected activity. \n",
    "\n"
   ]
  },
  {
   "cell_type": "markdown",
   "metadata": {},
   "source": [
    "## A. <u> Data Set Description</u>\n",
    "<ul>\n",
    "We collected our data from - https://www.viator.com/. We scrapped the data using Beautiful Soup library. The website blocked us after a few pages so we collected some of the data manually. We prepared a excel file which was later converted to csv, after a few alterations. \n",
    "\n",
    "Our final dataset consists of a single comma seperated file (Travel_data.csv) that contains information about leisure activities that one can do in different cities of California. We have five main categories of activities: \n",
    "\n",
    "- Water Ativities\n",
    "- Food, Wine and Nightlife\n",
    "- Outdoor ativities \n",
    "- Walking & biking \n",
    "- Tours\n",
    "\n",
    "<ul>\n",
    "<ul>\n",
    "<ul>\n",
    "<b>There are 11 columns in our dataset and their description is as follows:</b>\n",
    "\n",
    "<li>1. Activity : Detailed name of the activity </li>\n",
    "<li>2. City : Name of the city where that particular activity happens </li>\n",
    "<li>3. Price : Cost in USD of performing that particular activity </li>\n",
    "<li>4. Region: This has 3 main values - North, Central and South </li>\n",
    "<li>5. Rating : User rating for that particular activity </li>\n",
    "<li>6. Category : This has the name of the category (mentioned above) </li>\n",
    "<li>7. Water Activities: Value of 0 or 1, if its a water activity it will 1 otherwise 0 (binary)</li>\n",
    "<li>8. Food, Wine and Nightlife : Value of 0 or 1, if its a food, wine and/or nightlife activity it will 1 otherwise 0 (binary)</li>\n",
    "<li>9. Outdoor ativities: Value of 0 or 1, if its a outdoor activity it will 1 otherwise 0 (binary)</li>\n",
    "<li>10. Walking & biking : Value of 0 or 1, if its a walking and/or biking activity it will 1 otherwise 0 (binary) </li>\n",
    "<li>11. Tours: Value of 0 or 1, if its a tour (private or guided) it will 1 otherwise 0 (binary)</li>"
   ]
  },
  {
   "cell_type": "markdown",
   "metadata": {},
   "source": [
    "## B. <u> Preparing the data for applying the Algorithm </u>"
   ]
  },
  {
   "cell_type": "markdown",
   "metadata": {},
   "source": [
    "### <u><b>STEP 1: Importing all required libraries and reading the data</b></u>\n"
   ]
  },
  {
   "cell_type": "code",
   "execution_count": 1,
   "metadata": {
    "collapsed": true
   },
   "outputs": [],
   "source": [
    "from bs4 import BeautifulSoup\n",
    "import requests as rq\n",
    "import pandas as pd\n",
    "import numpy as np\n",
    "import re"
   ]
  },
  {
   "cell_type": "markdown",
   "metadata": {},
   "source": [
    "### <u><b>STEP 2: Using Beautiful soup to scrap data from the website - https://www.viator.com </b></u>\n"
   ]
  },
  {
   "cell_type": "code",
   "execution_count": 2,
   "metadata": {},
   "outputs": [
    {
     "ename": "KeyboardInterrupt",
     "evalue": "",
     "output_type": "error",
     "traceback": [
      "\u001b[0;31m---------------------------------------------------------------------------\u001b[0m",
      "\u001b[0;31mKeyboardInterrupt\u001b[0m                         Traceback (most recent call last)",
      "\u001b[0;32m/anaconda3/lib/python3.6/site-packages/ipykernel/kernelbase.py\u001b[0m in \u001b[0;36m_input_request\u001b[0;34m(self, prompt, ident, parent, password)\u001b[0m\n\u001b[1;32m    729\u001b[0m             \u001b[0;32mtry\u001b[0m\u001b[0;34m:\u001b[0m\u001b[0;34m\u001b[0m\u001b[0m\n\u001b[0;32m--> 730\u001b[0;31m                 \u001b[0mident\u001b[0m\u001b[0;34m,\u001b[0m \u001b[0mreply\u001b[0m \u001b[0;34m=\u001b[0m \u001b[0mself\u001b[0m\u001b[0;34m.\u001b[0m\u001b[0msession\u001b[0m\u001b[0;34m.\u001b[0m\u001b[0mrecv\u001b[0m\u001b[0;34m(\u001b[0m\u001b[0mself\u001b[0m\u001b[0;34m.\u001b[0m\u001b[0mstdin_socket\u001b[0m\u001b[0;34m,\u001b[0m \u001b[0;36m0\u001b[0m\u001b[0;34m)\u001b[0m\u001b[0;34m\u001b[0m\u001b[0m\n\u001b[0m\u001b[1;32m    731\u001b[0m             \u001b[0;32mexcept\u001b[0m \u001b[0mException\u001b[0m\u001b[0;34m:\u001b[0m\u001b[0;34m\u001b[0m\u001b[0m\n",
      "\u001b[0;32m/anaconda3/lib/python3.6/site-packages/jupyter_client/session.py\u001b[0m in \u001b[0;36mrecv\u001b[0;34m(self, socket, mode, content, copy)\u001b[0m\n\u001b[1;32m    795\u001b[0m         \u001b[0;32mtry\u001b[0m\u001b[0;34m:\u001b[0m\u001b[0;34m\u001b[0m\u001b[0m\n\u001b[0;32m--> 796\u001b[0;31m             \u001b[0mmsg_list\u001b[0m \u001b[0;34m=\u001b[0m \u001b[0msocket\u001b[0m\u001b[0;34m.\u001b[0m\u001b[0mrecv_multipart\u001b[0m\u001b[0;34m(\u001b[0m\u001b[0mmode\u001b[0m\u001b[0;34m,\u001b[0m \u001b[0mcopy\u001b[0m\u001b[0;34m=\u001b[0m\u001b[0mcopy\u001b[0m\u001b[0;34m)\u001b[0m\u001b[0;34m\u001b[0m\u001b[0m\n\u001b[0m\u001b[1;32m    797\u001b[0m         \u001b[0;32mexcept\u001b[0m \u001b[0mzmq\u001b[0m\u001b[0;34m.\u001b[0m\u001b[0mZMQError\u001b[0m \u001b[0;32mas\u001b[0m \u001b[0me\u001b[0m\u001b[0;34m:\u001b[0m\u001b[0;34m\u001b[0m\u001b[0m\n",
      "\u001b[0;32m/anaconda3/lib/python3.6/site-packages/zmq/sugar/socket.py\u001b[0m in \u001b[0;36mrecv_multipart\u001b[0;34m(self, flags, copy, track)\u001b[0m\n\u001b[1;32m    394\u001b[0m         \"\"\"\n\u001b[0;32m--> 395\u001b[0;31m         \u001b[0mparts\u001b[0m \u001b[0;34m=\u001b[0m \u001b[0;34m[\u001b[0m\u001b[0mself\u001b[0m\u001b[0;34m.\u001b[0m\u001b[0mrecv\u001b[0m\u001b[0;34m(\u001b[0m\u001b[0mflags\u001b[0m\u001b[0;34m,\u001b[0m \u001b[0mcopy\u001b[0m\u001b[0;34m=\u001b[0m\u001b[0mcopy\u001b[0m\u001b[0;34m,\u001b[0m \u001b[0mtrack\u001b[0m\u001b[0;34m=\u001b[0m\u001b[0mtrack\u001b[0m\u001b[0;34m)\u001b[0m\u001b[0;34m]\u001b[0m\u001b[0;34m\u001b[0m\u001b[0m\n\u001b[0m\u001b[1;32m    396\u001b[0m         \u001b[0;31m# have first part already, only loop while more to receive\u001b[0m\u001b[0;34m\u001b[0m\u001b[0;34m\u001b[0m\u001b[0m\n",
      "\u001b[0;32mzmq/backend/cython/socket.pyx\u001b[0m in \u001b[0;36mzmq.backend.cython.socket.Socket.recv (zmq/backend/cython/socket.c:7683)\u001b[0;34m()\u001b[0m\n",
      "\u001b[0;32mzmq/backend/cython/socket.pyx\u001b[0m in \u001b[0;36mzmq.backend.cython.socket.Socket.recv (zmq/backend/cython/socket.c:7460)\u001b[0;34m()\u001b[0m\n",
      "\u001b[0;32mzmq/backend/cython/socket.pyx\u001b[0m in \u001b[0;36mzmq.backend.cython.socket._recv_copy (zmq/backend/cython/socket.c:2344)\u001b[0;34m()\u001b[0m\n",
      "\u001b[0;32m/anaconda3/lib/python3.6/site-packages/zmq/backend/cython/checkrc.pxd\u001b[0m in \u001b[0;36mzmq.backend.cython.checkrc._check_rc (zmq/backend/cython/socket.c:9621)\u001b[0;34m()\u001b[0m\n",
      "\u001b[0;31mKeyboardInterrupt\u001b[0m: ",
      "\nDuring handling of the above exception, another exception occurred:\n",
      "\u001b[0;31mKeyboardInterrupt\u001b[0m                         Traceback (most recent call last)",
      "\u001b[0;32m<ipython-input-2-c8566fa313e8>\u001b[0m in \u001b[0;36m<module>\u001b[0;34m()\u001b[0m\n\u001b[0;32m----> 1\u001b[0;31m \u001b[0murl\u001b[0m \u001b[0;34m=\u001b[0m \u001b[0minput\u001b[0m\u001b[0;34m(\u001b[0m\u001b[0;34m\"https://www.viator.com/California/d272-ttd\"\u001b[0m\u001b[0;34m)\u001b[0m\u001b[0;34m\u001b[0m\u001b[0m\n\u001b[0m\u001b[1;32m      2\u001b[0m \u001b[0mr\u001b[0m  \u001b[0;34m=\u001b[0m \u001b[0mrq\u001b[0m\u001b[0;34m.\u001b[0m\u001b[0mget\u001b[0m\u001b[0;34m(\u001b[0m\u001b[0murl\u001b[0m\u001b[0;34m)\u001b[0m\u001b[0;34m\u001b[0m\u001b[0m\n\u001b[1;32m      3\u001b[0m \u001b[0;34m\u001b[0m\u001b[0m\n\u001b[1;32m      4\u001b[0m \u001b[0mdata\u001b[0m \u001b[0;34m=\u001b[0m \u001b[0mr\u001b[0m\u001b[0;34m.\u001b[0m\u001b[0mtext\u001b[0m\u001b[0;34m\u001b[0m\u001b[0m\n\u001b[1;32m      5\u001b[0m \u001b[0;34m\u001b[0m\u001b[0m\n",
      "\u001b[0;32m/anaconda3/lib/python3.6/site-packages/ipykernel/kernelbase.py\u001b[0m in \u001b[0;36mraw_input\u001b[0;34m(self, prompt)\u001b[0m\n\u001b[1;32m    703\u001b[0m             \u001b[0mself\u001b[0m\u001b[0;34m.\u001b[0m\u001b[0m_parent_ident\u001b[0m\u001b[0;34m,\u001b[0m\u001b[0;34m\u001b[0m\u001b[0m\n\u001b[1;32m    704\u001b[0m             \u001b[0mself\u001b[0m\u001b[0;34m.\u001b[0m\u001b[0m_parent_header\u001b[0m\u001b[0;34m,\u001b[0m\u001b[0;34m\u001b[0m\u001b[0m\n\u001b[0;32m--> 705\u001b[0;31m             \u001b[0mpassword\u001b[0m\u001b[0;34m=\u001b[0m\u001b[0;32mFalse\u001b[0m\u001b[0;34m,\u001b[0m\u001b[0;34m\u001b[0m\u001b[0m\n\u001b[0m\u001b[1;32m    706\u001b[0m         )\n\u001b[1;32m    707\u001b[0m \u001b[0;34m\u001b[0m\u001b[0m\n",
      "\u001b[0;32m/anaconda3/lib/python3.6/site-packages/ipykernel/kernelbase.py\u001b[0m in \u001b[0;36m_input_request\u001b[0;34m(self, prompt, ident, parent, password)\u001b[0m\n\u001b[1;32m    733\u001b[0m             \u001b[0;32mexcept\u001b[0m \u001b[0mKeyboardInterrupt\u001b[0m\u001b[0;34m:\u001b[0m\u001b[0;34m\u001b[0m\u001b[0m\n\u001b[1;32m    734\u001b[0m                 \u001b[0;31m# re-raise KeyboardInterrupt, to truncate traceback\u001b[0m\u001b[0;34m\u001b[0m\u001b[0;34m\u001b[0m\u001b[0m\n\u001b[0;32m--> 735\u001b[0;31m                 \u001b[0;32mraise\u001b[0m \u001b[0mKeyboardInterrupt\u001b[0m\u001b[0;34m\u001b[0m\u001b[0m\n\u001b[0m\u001b[1;32m    736\u001b[0m             \u001b[0;32melse\u001b[0m\u001b[0;34m:\u001b[0m\u001b[0;34m\u001b[0m\u001b[0m\n\u001b[1;32m    737\u001b[0m                 \u001b[0;32mbreak\u001b[0m\u001b[0;34m\u001b[0m\u001b[0m\n",
      "\u001b[0;31mKeyboardInterrupt\u001b[0m: "
     ]
    }
   ],
   "source": [
    "url = input(\"https://www.viator.com/California/d272-ttd\")\n",
    "r  = rq.get(url)\n",
    "\n",
    "data = r.text\n",
    "\n",
    "soup = BeautifulSoup(data,\"html5lib\")"
   ]
  },
  {
   "cell_type": "code",
   "execution_count": 3,
   "metadata": {
    "collapsed": true
   },
   "outputs": [],
   "source": [
    "cityActivityList1 = []\n",
    "cityActivityList2 = []\n",
    "cityActivityList3 = []"
   ]
  },
  {
   "cell_type": "code",
   "execution_count": 4,
   "metadata": {
    "collapsed": true
   },
   "outputs": [],
   "source": [
    "#finds the html for activity\n",
    "for x in soup.find_all('h2',attrs={'man mtm product-title'}):\n",
    "    text = x.text\n",
    "    cityActivityList1.append(text)"
   ]
  },
  {
   "cell_type": "code",
   "execution_count": 5,
   "metadata": {
    "collapsed": true
   },
   "outputs": [],
   "source": [
    "#finds the html for location\n",
    "for x in soup.find_all('p' ,attrs={'man mts note xsmall'}):\n",
    "    text = x.text\n",
    "    cityActivityList2.append(text)"
   ]
  },
  {
   "cell_type": "code",
   "execution_count": 6,
   "metadata": {
    "collapsed": true
   },
   "outputs": [],
   "source": [
    "#finds the html for price\n",
    "for x in soup.find_all('span' ,attrs={'price-amount'}):\n",
    "    text = x.text\n",
    "    cityActivityList3.append(text)"
   ]
  },
  {
   "cell_type": "code",
   "execution_count": 7,
   "metadata": {
    "collapsed": true
   },
   "outputs": [],
   "source": [
    "#convert all from list to dataframes\n",
    "df1 = pd.DataFrame({'Activity': cityActivityList1})\n",
    "df2 = pd.DataFrame({'City': cityActivityList2})\n",
    "df3 = pd.DataFrame({'Price': cityActivityList3})"
   ]
  },
  {
   "cell_type": "code",
   "execution_count": 8,
   "metadata": {
    "collapsed": true
   },
   "outputs": [],
   "source": [
    "#join together based on row number to get the activity, location and price aligned\n",
    "cityActivities = df1.join(df2).join(df3)"
   ]
  },
  {
   "cell_type": "code",
   "execution_count": 9,
   "metadata": {
    "collapsed": true
   },
   "outputs": [],
   "source": [
    "#function to clean data to just get just the city. Don't need state since everything is in California\n",
    "def getLocation(Location):\n",
    "    City = (Location.split(\", California\",1)[0])\n",
    "    return City"
   ]
  },
  {
   "cell_type": "code",
   "execution_count": 10,
   "metadata": {
    "collapsed": true
   },
   "outputs": [],
   "source": [
    "#apply the getLocation function to the dataframe\n",
    "cityActivities['City'] = cityActivities['City'].apply(getLocation)"
   ]
  },
  {
   "cell_type": "markdown",
   "metadata": {},
   "source": [
    "Next we will map the region to each city which will be used for a filter that the user can select. Regions will be North, Central and South."
   ]
  },
  {
   "cell_type": "code",
   "execution_count": 11,
   "metadata": {
    "collapsed": true
   },
   "outputs": [],
   "source": [
    "#Dictionary to be used for tagRegion function below\n",
    "mapRegion = {\n",
    "    'Central': ['Cambria','Carmel','Los Olivos','Monterey','Oceano','Paso Robles', \\\n",
    "               'San Luis Obispo','Santa Barbara','Solvang'],\n",
    "    'North': ['Berkeley','Cupertino','Fish Camp','Healdsburg','Inverness','Jenner', \\\n",
    "             'Lake Tahoe', 'Livermore','Los Gatos','Mammoth Lakes','Mill Valley', \\\n",
    "             'Napa','Novato','Oakhurst','Oakland','Occidental','Petaluma','Point Reyes', \\\n",
    "             'Redding','Rohnert Park','Sacramento','San Francisco','San Jose','Santa Cruz','Santa Rosa', \\\n",
    "             'Sausalito','Sonoma','Stockton','Tahoe City','Truckee'],\n",
    "    'South': ['Anaheim','Beverly Hills','Carlsbad','Catalina Island','Dana Point','Fontana', \\\n",
    "             'Huntington Beach','Joshua Tree','La Jolla','Laguna Beach','Long Beach','Los Angeles', \\\n",
    "             'Malibu','Newport Beach','Oceanside','Palm Desert','Palm Springs','Pasadena', \\\n",
    "             'Riverside','San Diego','Santa Ana','Santa Monica','Temecula','Universal City', \\\n",
    "             'Venice','West Hollywood']\n",
    "}"
   ]
  },
  {
   "cell_type": "code",
   "execution_count": 12,
   "metadata": {
    "collapsed": true
   },
   "outputs": [],
   "source": [
    "def tagRegion(x):\n",
    "    for k,v in mapRegion.items():\n",
    "        if x.strip() in v:\n",
    "            return k\n",
    "        else:\n",
    "            pass"
   ]
  },
  {
   "cell_type": "code",
   "execution_count": 13,
   "metadata": {
    "collapsed": true
   },
   "outputs": [],
   "source": [
    "#Apply function to add the new column \"Region\" to our dataframe\n",
    "cityActivities['Region'] = cityActivities['City'].apply(tagRegion)"
   ]
  },
  {
   "cell_type": "code",
   "execution_count": 14,
   "metadata": {},
   "outputs": [
    {
     "data": {
      "text/html": [
       "<div>\n",
       "<style>\n",
       "    .dataframe thead tr:only-child th {\n",
       "        text-align: right;\n",
       "    }\n",
       "\n",
       "    .dataframe thead th {\n",
       "        text-align: left;\n",
       "    }\n",
       "\n",
       "    .dataframe tbody tr th {\n",
       "        vertical-align: top;\n",
       "    }\n",
       "</style>\n",
       "<table border=\"1\" class=\"dataframe\">\n",
       "  <thead>\n",
       "    <tr style=\"text-align: right;\">\n",
       "      <th></th>\n",
       "      <th>Activity</th>\n",
       "      <th>City</th>\n",
       "      <th>Price</th>\n",
       "      <th>Region</th>\n",
       "    </tr>\n",
       "  </thead>\n",
       "  <tbody>\n",
       "    <tr>\n",
       "      <th>0</th>\n",
       "      <td>Napa and Sonoma Wine Country Tour</td>\n",
       "      <td>San Francisco</td>\n",
       "      <td>$99.00</td>\n",
       "      <td>North</td>\n",
       "    </tr>\n",
       "    <tr>\n",
       "      <th>1</th>\n",
       "      <td>Big Bus San Francisco Sightseeing and Alcatra...</td>\n",
       "      <td>San Francisco</td>\n",
       "      <td>$110.00</td>\n",
       "      <td>North</td>\n",
       "    </tr>\n",
       "    <tr>\n",
       "      <th>2</th>\n",
       "      <td>Muir Woods, Giant Redwoods and Sausalito Half...</td>\n",
       "      <td>San Francisco</td>\n",
       "      <td>$62.00</td>\n",
       "      <td>North</td>\n",
       "    </tr>\n",
       "    <tr>\n",
       "      <th>3</th>\n",
       "      <td>Yosemite National Park and Giant Sequoias Trip</td>\n",
       "      <td>San Francisco</td>\n",
       "      <td>$171.00</td>\n",
       "      <td>North</td>\n",
       "    </tr>\n",
       "    <tr>\n",
       "      <th>4</th>\n",
       "      <td>San Francisco Hop-on Hop-off Ticket and Alcat...</td>\n",
       "      <td>San Francisco</td>\n",
       "      <td>$111.50</td>\n",
       "      <td>North</td>\n",
       "    </tr>\n",
       "    <tr>\n",
       "      <th>5</th>\n",
       "      <td>Viator VIP: Early Access to Alcatraz and Excl...</td>\n",
       "      <td>San Francisco</td>\n",
       "      <td>$192.50</td>\n",
       "      <td>North</td>\n",
       "    </tr>\n",
       "    <tr>\n",
       "      <th>6</th>\n",
       "      <td>Yosemite National Park Day Trip from San Fran...</td>\n",
       "      <td>San Francisco</td>\n",
       "      <td>$139.00</td>\n",
       "      <td>North</td>\n",
       "    </tr>\n",
       "    <tr>\n",
       "      <th>7</th>\n",
       "      <td>San Francisco Super Saver: Muir Woods &amp; Wine ...</td>\n",
       "      <td>San Francisco</td>\n",
       "      <td>$121.00</td>\n",
       "      <td>North</td>\n",
       "    </tr>\n",
       "    <tr>\n",
       "      <th>8</th>\n",
       "      <td>Monterey, Carmel and 17-Mile Drive Day Trip f...</td>\n",
       "      <td>San Francisco</td>\n",
       "      <td>$89.00</td>\n",
       "      <td>North</td>\n",
       "    </tr>\n",
       "    <tr>\n",
       "      <th>9</th>\n",
       "      <td>Small-Group Napa and Sonoma Wine Country Tour...</td>\n",
       "      <td>San Francisco</td>\n",
       "      <td>$149.00</td>\n",
       "      <td>North</td>\n",
       "    </tr>\n",
       "  </tbody>\n",
       "</table>\n",
       "</div>"
      ],
      "text/plain": [
       "                                            Activity            City    Price  \\\n",
       "0                 Napa and Sonoma Wine Country Tour    San Francisco   $99.00   \n",
       "1   Big Bus San Francisco Sightseeing and Alcatra...   San Francisco  $110.00   \n",
       "2   Muir Woods, Giant Redwoods and Sausalito Half...   San Francisco   $62.00   \n",
       "3    Yosemite National Park and Giant Sequoias Trip    San Francisco  $171.00   \n",
       "4   San Francisco Hop-on Hop-off Ticket and Alcat...   San Francisco  $111.50   \n",
       "5   Viator VIP: Early Access to Alcatraz and Excl...   San Francisco  $192.50   \n",
       "6   Yosemite National Park Day Trip from San Fran...   San Francisco  $139.00   \n",
       "7   San Francisco Super Saver: Muir Woods & Wine ...   San Francisco  $121.00   \n",
       "8   Monterey, Carmel and 17-Mile Drive Day Trip f...   San Francisco   $89.00   \n",
       "9   Small-Group Napa and Sonoma Wine Country Tour...   San Francisco  $149.00   \n",
       "\n",
       "  Region  \n",
       "0  North  \n",
       "1  North  \n",
       "2  North  \n",
       "3  North  \n",
       "4  North  \n",
       "5  North  \n",
       "6  North  \n",
       "7  North  \n",
       "8  North  \n",
       "9  North  "
      ]
     },
     "execution_count": 14,
     "metadata": {},
     "output_type": "execute_result"
    }
   ],
   "source": [
    "cityActivities.head(10)"
   ]
  },
  {
   "cell_type": "code",
   "execution_count": 16,
   "metadata": {
    "collapsed": true
   },
   "outputs": [],
   "source": [
    "#Export to csv so that we can clean the data (add the category tags)\n",
    "cityActivities = cityActivities.to_csv(\"cityActivities.csv\")"
   ]
  },
  {
   "cell_type": "code",
   "execution_count": 10,
   "metadata": {
    "collapsed": true,
    "scrolled": true
   },
   "outputs": [],
   "source": [
    "#After cleaning the data, bring in the csv file\n",
    "raw_data = pd.read_csv('Travel_data.csv')"
   ]
  },
  {
   "cell_type": "markdown",
   "metadata": {},
   "source": [
    "### <u>STEP 3: Check if we get  insights from the data</u>\n"
   ]
  },
  {
   "cell_type": "code",
   "execution_count": 12,
   "metadata": {},
   "outputs": [
    {
     "data": {
      "text/html": [
       "<div>\n",
       "<style>\n",
       "    .dataframe thead tr:only-child th {\n",
       "        text-align: right;\n",
       "    }\n",
       "\n",
       "    .dataframe thead th {\n",
       "        text-align: left;\n",
       "    }\n",
       "\n",
       "    .dataframe tbody tr th {\n",
       "        vertical-align: top;\n",
       "    }\n",
       "</style>\n",
       "<table border=\"1\" class=\"dataframe\">\n",
       "  <thead>\n",
       "    <tr style=\"text-align: right;\">\n",
       "      <th></th>\n",
       "      <th>Rating</th>\n",
       "      <th>Category</th>\n",
       "      <th>Water Activities</th>\n",
       "      <th>Outdoor Activities</th>\n",
       "      <th>Walking and Biking</th>\n",
       "      <th>Tours</th>\n",
       "      <th>Food,Wine &amp; Nightlife</th>\n",
       "    </tr>\n",
       "  </thead>\n",
       "  <tbody>\n",
       "    <tr>\n",
       "      <th>count</th>\n",
       "      <td>1007.000000</td>\n",
       "      <td>0.0</td>\n",
       "      <td>1007.000000</td>\n",
       "      <td>1007.000000</td>\n",
       "      <td>1007.000000</td>\n",
       "      <td>1007.000000</td>\n",
       "      <td>1007.000000</td>\n",
       "    </tr>\n",
       "    <tr>\n",
       "      <th>mean</th>\n",
       "      <td>2.751241</td>\n",
       "      <td>NaN</td>\n",
       "      <td>0.178749</td>\n",
       "      <td>0.397219</td>\n",
       "      <td>0.282026</td>\n",
       "      <td>0.766634</td>\n",
       "      <td>0.387289</td>\n",
       "    </tr>\n",
       "    <tr>\n",
       "      <th>std</th>\n",
       "      <td>1.434084</td>\n",
       "      <td>NaN</td>\n",
       "      <td>0.383332</td>\n",
       "      <td>0.489565</td>\n",
       "      <td>0.450209</td>\n",
       "      <td>0.423184</td>\n",
       "      <td>0.487373</td>\n",
       "    </tr>\n",
       "    <tr>\n",
       "      <th>min</th>\n",
       "      <td>0.500000</td>\n",
       "      <td>NaN</td>\n",
       "      <td>0.000000</td>\n",
       "      <td>0.000000</td>\n",
       "      <td>0.000000</td>\n",
       "      <td>0.000000</td>\n",
       "      <td>0.000000</td>\n",
       "    </tr>\n",
       "    <tr>\n",
       "      <th>25%</th>\n",
       "      <td>1.500000</td>\n",
       "      <td>NaN</td>\n",
       "      <td>0.000000</td>\n",
       "      <td>0.000000</td>\n",
       "      <td>0.000000</td>\n",
       "      <td>1.000000</td>\n",
       "      <td>0.000000</td>\n",
       "    </tr>\n",
       "    <tr>\n",
       "      <th>50%</th>\n",
       "      <td>3.000000</td>\n",
       "      <td>NaN</td>\n",
       "      <td>0.000000</td>\n",
       "      <td>0.000000</td>\n",
       "      <td>0.000000</td>\n",
       "      <td>1.000000</td>\n",
       "      <td>0.000000</td>\n",
       "    </tr>\n",
       "    <tr>\n",
       "      <th>75%</th>\n",
       "      <td>4.000000</td>\n",
       "      <td>NaN</td>\n",
       "      <td>0.000000</td>\n",
       "      <td>1.000000</td>\n",
       "      <td>1.000000</td>\n",
       "      <td>1.000000</td>\n",
       "      <td>1.000000</td>\n",
       "    </tr>\n",
       "    <tr>\n",
       "      <th>max</th>\n",
       "      <td>5.000000</td>\n",
       "      <td>NaN</td>\n",
       "      <td>1.000000</td>\n",
       "      <td>1.000000</td>\n",
       "      <td>1.000000</td>\n",
       "      <td>1.000000</td>\n",
       "      <td>1.000000</td>\n",
       "    </tr>\n",
       "  </tbody>\n",
       "</table>\n",
       "</div>"
      ],
      "text/plain": [
       "            Rating  Category  Water Activities  Outdoor Activities  \\\n",
       "count  1007.000000       0.0       1007.000000         1007.000000   \n",
       "mean      2.751241       NaN          0.178749            0.397219   \n",
       "std       1.434084       NaN          0.383332            0.489565   \n",
       "min       0.500000       NaN          0.000000            0.000000   \n",
       "25%       1.500000       NaN          0.000000            0.000000   \n",
       "50%       3.000000       NaN          0.000000            0.000000   \n",
       "75%       4.000000       NaN          0.000000            1.000000   \n",
       "max       5.000000       NaN          1.000000            1.000000   \n",
       "\n",
       "       Walking and Biking        Tours  Food,Wine & Nightlife  \n",
       "count         1007.000000  1007.000000            1007.000000  \n",
       "mean             0.282026     0.766634               0.387289  \n",
       "std              0.450209     0.423184               0.487373  \n",
       "min              0.000000     0.000000               0.000000  \n",
       "25%              0.000000     1.000000               0.000000  \n",
       "50%              0.000000     1.000000               0.000000  \n",
       "75%              1.000000     1.000000               1.000000  \n",
       "max              1.000000     1.000000               1.000000  "
      ]
     },
     "execution_count": 12,
     "metadata": {},
     "output_type": "execute_result"
    }
   ],
   "source": [
    "raw_data.describe()"
   ]
  },
  {
   "cell_type": "markdown",
   "metadata": {},
   "source": [
    "### <u>STEP 4:Filter out region based on user's input</u>\n"
   ]
  },
  {
   "cell_type": "code",
   "execution_count": 4,
   "metadata": {
    "collapsed": true
   },
   "outputs": [],
   "source": [
    "# If nothing is selected, include all regions\n",
    "#Function will be applied to raw_data dataframe\n",
    "\n",
    "regionSelection = '' #This can be changed based on the user input\n",
    "\n",
    "def filterRegion(regionSelection):\n",
    "    if regionSelection == 'North':\n",
    "        newRegion = raw_data.loc[raw_data['Region'] == 'North']\n",
    "        return newRegion\n",
    "    elif regionSelection == 'South':\n",
    "        newRegion = raw_data.loc[raw_data['Region'] == 'South']\n",
    "        return newRegion\n",
    "    elif regionSelection == 'Central':\n",
    "        newRegion = raw_data.loc[raw_data['Region'] == 'Central']\n",
    "        return newRegion\n",
    "    else:\n",
    "        newRegion = raw_data\n",
    "        return newRegion"
   ]
  },
  {
   "cell_type": "code",
   "execution_count": 5,
   "metadata": {
    "collapsed": true
   },
   "outputs": [],
   "source": [
    "raw_data = filterRegion(regionSelection)"
   ]
  },
  {
   "cell_type": "markdown",
   "metadata": {},
   "source": [
    "### Now we'll do the following steps:\n",
    "#### 1. Create a list for the categories: \n",
    "water activities, outdoor activities, walking and biking, tours, and food,wine & nightlife\n",
    "\n",
    "#### 2. Put that list into the Category column\n",
    "\n",
    "#### 3. Create a tuple with the aggregated data"
   ]
  },
  {
   "cell_type": "code",
   "execution_count": 6,
   "metadata": {
    "collapsed": true
   },
   "outputs": [],
   "source": [
    "\n",
    "## At this point Index of the DataFrame is not in proper order. This line drops old index and resets index from 0 to num_rows -1\n",
    "activities_df = raw_data.reset_index(drop=True) "
   ]
  },
  {
   "cell_type": "markdown",
   "metadata": {},
   "source": [
    "#### 1. Create a list for the categories: \n",
    "\n",
    "This following one line does a bunch of things. We could have broken it out into multiple apply functions, but \n",
    "for conciseness and efficiency combined all of them into a single apply. We do the following here:\n",
    "1. activities_df.iloc[:, 6:] subselects all rows and the columns starting 6 onwards (i.e. Water Activities) basically we want to apply a function to a subsection of the df\n",
    "2. now we apply a series of functions to this sub-dataframe:\n",
    "\n",
    "    a. .dropna() removes missing values for if we have any\n",
    "    \n",
    "    b. .astype(int).astype(str) first convert to int and then to str. We dont convert to str as these may be treated as factor variables by python.We need this in string format because we are gonna join with ',' in next step\n",
    "    \n",
    "    c. ','.join joins all the values in each column seperated by a comma\n",
    "    \n",
    "We are applying it row-by-row and not column-by-column, hence axis=1"
   ]
  },
  {
   "cell_type": "code",
   "execution_count": 7,
   "metadata": {
    "collapsed": true
   },
   "outputs": [],
   "source": [
    "activities_df['Category'] = activities_df.iloc[:, 5:].apply(lambda x: ','.join(x.dropna().astype(int).astype(str)),axis=1)"
   ]
  },
  {
   "cell_type": "markdown",
   "metadata": {},
   "source": [
    "#### 2. Put that list into the Category column:\n",
    "\n",
    "At this point we have a new column called 'Category' which contains a string like this: \"1,0,0,1,1\".\n",
    "But we need a list like this instead: ['1', '0', '0', '1', '1']. To get there we again apply \n",
    "a function to each row (only for the column activities_df['Category'] this time). \n",
    "\n",
    "Now, we:\n",
    "\n",
    "1. map(int, x.split(',')) - split the string on commas, then convert them to int, because that is what we need to do the distance calc, we cannot find distance using str values\n",
    "\n",
    "2. list(....) - put the values of map into a list"
   ]
  },
  {
   "cell_type": "code",
   "execution_count": 8,
   "metadata": {
    "collapsed": true
   },
   "outputs": [],
   "source": [
    "activities_df['Category'] = activities_df['Category'].apply(lambda x: list(map(int, x.split(','))))"
   ]
  },
  {
   "cell_type": "markdown",
   "metadata": {},
   "source": [
    "#### 3. Create a tuple with the aggregated data:\n",
    "\n",
    "Now we have a df with a column called 'Category' = list like ['1', '0', '0', '1', '1']. \n",
    "but we need a dictionay of lists not a DataFrame. \n",
    "\n",
    "The following 2 lines of code convert our DF columns (notice only 0 to 6) to a list of Tuples row by row. Each tuple in this list is a row of the original DF. Finally we put each individual list into a Dict with the key of the dict being the index/position in the list. So, first item has key/id of 1 etc. \n",
    "\n",
    "Now we have a dict{activity_id: activity}"
   ]
  },
  {
   "cell_type": "code",
   "execution_count": 9,
   "metadata": {
    "collapsed": true
   },
   "outputs": [],
   "source": [
    "activities_tuple = [tuple(x) for x in activities_df.iloc[:, 0:6].values]\n",
    "activities_dict = {i:j for i,j in enumerate(activities_tuple)}"
   ]
  },
  {
   "cell_type": "markdown",
   "metadata": {},
   "source": [
    "### The final data will look like as follows:"
   ]
  },
  {
   "cell_type": "code",
   "execution_count": 153,
   "metadata": {},
   "outputs": [
    {
     "data": {
      "text/plain": [
       "('Sonoma Valley Wine Tour from San Francisco',\n",
       " 'Sonoma',\n",
       " '139',\n",
       " 'North',\n",
       " 4.0,\n",
       " [0, 0, 0, 1, 1])"
      ]
     },
     "execution_count": 153,
     "metadata": {},
     "output_type": "execute_result"
    }
   ],
   "source": [
    "#see what a sample row will look like in our dictionary\n",
    "\n",
    "activities_dict[900]"
   ]
  },
  {
   "cell_type": "markdown",
   "metadata": {},
   "source": [
    "## C. <u> Applying the Algorithm</u>"
   ]
  },
  {
   "cell_type": "markdown",
   "metadata": {},
   "source": [
    "### <u>STEP 5:Calculating the cosine distance </u>\n",
    "\n",
    "Here we are calculating the distance of each activity's category from other activity's categoeies to find similarities between activities. Less distance implies more similarity and vice versa. "
   ]
  },
  {
   "cell_type": "code",
   "execution_count": 154,
   "metadata": {
    "collapsed": true,
    "scrolled": true
   },
   "outputs": [],
   "source": [
    "#Compute the distance between the category and rating similarity\n",
    "\n",
    "from scipy import spatial\n",
    "\n",
    "def ComputeDistance(a, b):\n",
    "    # a[5] = category\n",
    "    catA = a[5]\n",
    "    catB = b[5]\n",
    "    catDistance = spatial.distance.cosine(catA, catB)\n",
    "    # a[4] = rating\n",
    "    ratingA = a[4]\n",
    "    ratingB = b[4]\n",
    "    ratingDistance = abs(ratingA - ratingB)\n",
    "    return (catDistance + ratingDistance)"
   ]
  },
  {
   "cell_type": "code",
   "execution_count": 155,
   "metadata": {},
   "outputs": [
    {
     "data": {
      "text/plain": [
       "0.5"
      ]
     },
     "execution_count": 155,
     "metadata": {},
     "output_type": "execute_result"
    }
   ],
   "source": [
    "#test out the ComputeDistance function from above\n",
    "\n",
    "ComputeDistance(activities_dict[900], activities_dict[60])"
   ]
  },
  {
   "cell_type": "markdown",
   "metadata": {},
   "source": [
    "### <u>STEP 6:                    </u>\n",
    "\n",
    "We are creating a function that will calculate the distance between two activities (based on rating and category). It will only compare the activities that are different. For example, if I search for horseback riding, it will not give me horseback riding as one of my results.  <br> <br>\n",
    "\n",
    "activityName = index number of the activity from above <br>\n",
    "K = number of results we want to show \n",
    "\n",
    "Once the distance is calculated, it will apend the distance number in the neighbors list."
   ]
  },
  {
   "cell_type": "code",
   "execution_count": 156,
   "metadata": {
    "collapsed": true
   },
   "outputs": [],
   "source": [
    "#Write the function that will calculate the distance then find the nearest neighbors. \n",
    "#This will be used to display the activity recommendations\n",
    "\n",
    "import operator\n",
    "    \n",
    "def getNeighbors(activityName, K): \n",
    "    distances = []\n",
    "    for activity in activities_dict:\n",
    "        if (activity != activityName):\n",
    "            dist = ComputeDistance(activities_dict[activityName], activities_dict[activity])\n",
    "            distances.append((activity, dist))\n",
    "    distances.sort(key=operator.itemgetter(1))\n",
    "\n",
    "    neighbors = []\n",
    "    for x in range(K):\n",
    "        neighbors.append(distances[x][0])\n",
    "    return neighbors"
   ]
  },
  {
   "cell_type": "code",
   "execution_count": 157,
   "metadata": {
    "scrolled": true
   },
   "outputs": [
    {
     "data": {
      "text/plain": [
       "('Sonoma Valley Wine Tour from San Francisco',\n",
       " 'Sonoma',\n",
       " '139',\n",
       " 'North',\n",
       " 4.0,\n",
       " [0, 0, 0, 1, 1])"
      ]
     },
     "execution_count": 157,
     "metadata": {},
     "output_type": "execute_result"
    }
   ],
   "source": [
    "#Use this to see what value you are entering in below. This won't be used for any functions\n",
    "\n",
    "activities_dict[900]"
   ]
  },
  {
   "cell_type": "markdown",
   "metadata": {},
   "source": [
    "### <u>STEP 7:                    </u>\n",
    "\n",
    "Run the algorithm to find the activity recommendations. Our input is activity 900 (Sonoma Valley Wine Tour from San Francisco) and we only want to see 5 results. <br>\n",
    "\n",
    "It will iterate through the list of activities (already in descending order by distance value) and display the activity name, price, and city."
   ]
  },
  {
   "cell_type": "code",
   "execution_count": 158,
   "metadata": {
    "scrolled": true
   },
   "outputs": [
    {
     "name": "stdout",
     "output_type": "stream",
     "text": [
      "6 Hour Dessert Wine Tour - Napa Valley, $480, San Francisco\n",
      "6 Hour Private Wine Tasting Tour with Pre-set Stops, $439.99, Napa\n",
      "8 Hour Dry Creek Valley Wine Tasting Tour, $549.95, Sonoma\n",
      "8 Hour Santa Cruz Mountains Wine Tasting Tour from San Francisco, $599.99, Santa Cruz\n",
      "8 Hour South Bay Wine Tasting Tour from San Francisco, $539.88, San Jose\n"
     ]
    },
    {
     "name": "stderr",
     "output_type": "stream",
     "text": [
      "/usr/local/lib/python3.6/site-packages/scipy/spatial/distance.py:644: RuntimeWarning: invalid value encountered in double_scalars\n",
      "  dist = 1.0 - uv / np.sqrt(uu * vv)\n"
     ]
    }
   ],
   "source": [
    "K = 5 #Total number of recommendations we want to display\n",
    "\n",
    "neighbors = getNeighbors(900, K) #the number is the key we want to search by. Ex: 55 = Balboa Park Tour by Segway\n",
    "for y in neighbors:\n",
    "    print(activities_dict[y][0] + \", $\" + str(activities_dict[y][2]) \\\n",
    "          + \", \" + str(activities_dict[y][1]))"
   ]
  },
  {
   "cell_type": "markdown",
   "metadata": {},
   "source": [
    "## 4. <u> Insights from visualizations:</u>\n",
    "\n",
    "#### Link-> https://public.tableau.com/profile/rucha5691#!/vizhome/DataScienceproject-TheWeekenders/MosthappeningCitiesinCalifornia?publish=yes\n",
    "\n",
    "\n",
    "-> San Francisco proves to be the most happening city in California based on the number of activities in each city\n",
    "\n",
    "-> North region has the highest variety and is the most expensive region for food, wine, nightlife\n",
    "\n",
    "-> Beverly Hills and Pasadena are the highest rated cities to walk and bike\n",
    "\n",
    "-> Lake Tahoe is the most expensive city based on average walking and biking cost\n",
    "\n",
    "-> Avg cost of water activities is the highest in Central California\n",
    "\n",
    "-> Activities in Central Calif - List of activities to do in Central California based on the avg ratings\n"
   ]
  },
  {
   "cell_type": "code",
   "execution_count": null,
   "metadata": {
    "collapsed": true
   },
   "outputs": [],
   "source": []
  }
 ],
 "metadata": {
  "kernelspec": {
   "display_name": "Python 3",
   "language": "python",
   "name": "python3"
  },
  "language_info": {
   "codemirror_mode": {
    "name": "ipython",
    "version": 3
   },
   "file_extension": ".py",
   "mimetype": "text/x-python",
   "name": "python",
   "nbconvert_exporter": "python",
   "pygments_lexer": "ipython3",
   "version": "3.6.1"
  }
 },
 "nbformat": 4,
 "nbformat_minor": 2
}
